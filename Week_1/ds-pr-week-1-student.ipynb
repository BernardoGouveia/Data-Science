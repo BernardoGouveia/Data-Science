{
 "cells": [
  {
   "metadata": {},
   "cell_type": "markdown",
   "source": [
    "# Lab 1 - Python\n",
    "\n",
    "## Purpose\n",
    "The purpose of this class if to make you more confident coding with Python and Jupyter Notebooks, which we will be using for the rest of the year (also in the second semster with IA).\n",
    "\n",
    "## Methodology\n",
    "Review basic operations, data types and programming concepts in Python. Solve programming challenges.\n",
    "\n",
    "## Results\n",
    "Fast track to programming in Python.\n",
    "\n",
    "---"
   ]
  },
  {
   "cell_type": "markdown",
   "metadata": {
    "deletable": false,
    "editable": false
   },
   "source": [
    "## Setup\n",
    "\n",
    "### Library import"
   ]
  },
  {
   "cell_type": "code",
   "metadata": {
    "colab": {
     "base_uri": "https://localhost:8080/"
    },
    "deletable": false,
    "editable": false,
    "id": "HpUE2CrVk-sU",
    "outputId": "26461d09-1cdd-486b-99dd-04e48af18d7b"
   },
   "source": [
    "import numpy as np"
   ],
   "outputs": [],
   "execution_count": null
  },
  {
   "cell_type": "markdown",
   "metadata": {
    "deletable": false,
    "editable": false
   },
   "source": [
    "#### Numpy"
   ]
  },
  {
   "cell_type": "markdown",
   "metadata": {
    "deletable": false,
    "editable": false
   },
   "source": [
    "The fundamental package for scientific computing with Python\n",
    "\n",
    "<img src=\"https://numpy.org/images/logo.svg\" width=\"100\" height=\"100\">\n",
    "\n",
    "[NumPy](https://numpy.org/)"
   ]
  },
  {
   "cell_type": "markdown",
   "metadata": {},
   "source": [
    "---\n",
    "\n",
    "# Review"
   ]
  },
  {
   "cell_type": "markdown",
   "metadata": {},
   "source": [
    "## Types"
   ]
  },
  {
   "cell_type": "markdown",
   "metadata": {},
   "source": [
    "https://docs.python.org/3.6/library/stdtypes.html"
   ]
  },
  {
   "cell_type": "markdown",
   "metadata": {},
   "source": [
    "### Boolean"
   ]
  },
  {
   "cell_type": "code",
   "metadata": {},
   "source": [
    "# Your code here"
   ],
   "outputs": [],
   "execution_count": null
  },
  {
   "cell_type": "markdown",
   "metadata": {},
   "source": [
    "#### Boolean Operations \n",
    "\n",
    "Suppose variables `x` and `y`\n",
    "\n",
    "    \n",
    "<table><thead>\n",
    "<tr>\n",
    "<th style=\"text-align: center\">Operator</th>\n",
    "<th>Description</th>\n",
    "<th>Code</th>\n",
    "</tr>\n",
    "</thead><tbody>\n",
    "<tr>\n",
    "<td style=\"text-align: center\">and</td>\n",
    "<td>True if both are true</td>\n",
    "<td><code>x and y</code></td>\n",
    "</tr>\n",
    "<tr>\n",
    "<td style=\"text-align: center\">or</td>\n",
    "<td>True if at least one is true</td>\n",
    "<td><code>x or y</code></td>\n",
    "</tr>\n",
    "<tr>\n",
    "<td style=\"text-align: center\">not</td>\n",
    "<td>True only if false</td>\n",
    "<td><code>not x</code></td>\n",
    "</tr>\n",
    "</tbody></table>"
   ]
  },
  {
   "cell_type": "code",
   "metadata": {},
   "source": [
    "# Your code here"
   ],
   "outputs": [],
   "execution_count": null
  },
  {
   "cell_type": "markdown",
   "metadata": {},
   "source": [
    "---\n",
    "\n",
    "###  Numeric \n",
    "- int\n",
    "- float"
   ]
  },
  {
   "cell_type": "code",
   "metadata": {},
   "source": [
    "# Your code here"
   ],
   "outputs": [],
   "execution_count": null
  },
  {
   "cell_type": "markdown",
   "metadata": {},
   "source": [
    "Cast from Float to Integer"
   ]
  },
  {
   "cell_type": "code",
   "metadata": {},
   "source": [
    "# Your code here"
   ],
   "outputs": [],
   "execution_count": null
  },
  {
   "cell_type": "markdown",
   "metadata": {},
   "source": [
    "Cast from Integer to Float"
   ]
  },
  {
   "cell_type": "code",
   "metadata": {},
   "source": [
    "# Your code here"
   ],
   "outputs": [],
   "execution_count": null
  },
  {
   "cell_type": "markdown",
   "metadata": {},
   "source": [
    "---"
   ]
  },
  {
   "cell_type": "markdown",
   "metadata": {},
   "source": [
    "### Sequence Types"
   ]
  },
  {
   "cell_type": "markdown",
   "metadata": {},
   "source": [
    "#### Text Sequence or String"
   ]
  },
  {
   "cell_type": "code",
   "metadata": {},
   "source": [
    "# Your code here"
   ],
   "outputs": [],
   "execution_count": null
  },
  {
   "cell_type": "markdown",
   "metadata": {},
   "source": [
    "Concatenate Strings"
   ]
  },
  {
   "cell_type": "code",
   "metadata": {},
   "source": "# Your code here",
   "outputs": [],
   "execution_count": null
  },
  {
   "cell_type": "markdown",
   "metadata": {},
   "source": [
    "#### List,  Mutable Dynamic Arrays\n"
   ]
  },
  {
   "cell_type": "markdown",
   "metadata": {},
   "source": [
    "Empty List"
   ]
  },
  {
   "cell_type": "code",
   "metadata": {},
   "source": [
    "# Your code here"
   ],
   "outputs": [],
   "execution_count": null
  },
  {
   "cell_type": "markdown",
   "metadata": {},
   "source": [
    "Multiple types "
   ]
  },
  {
   "cell_type": "code",
   "metadata": {},
   "source": [
    "# Your code here"
   ],
   "outputs": [],
   "execution_count": null
  },
  {
   "cell_type": "markdown",
   "metadata": {},
   "source": [
    "Mutability"
   ]
  },
  {
   "cell_type": "code",
   "metadata": {},
   "source": [
    "# Your code here"
   ],
   "outputs": [],
   "execution_count": null
  },
  {
   "cell_type": "markdown",
   "metadata": {},
   "source": [
    "Append at the end"
   ]
  },
  {
   "cell_type": "code",
   "metadata": {},
   "source": [
    "# Your code here"
   ],
   "outputs": [],
   "execution_count": null
  },
  {
   "cell_type": "markdown",
   "metadata": {},
   "source": [
    "Remove at the end"
   ]
  },
  {
   "cell_type": "code",
   "metadata": {},
   "source": "# Your code here",
   "outputs": [],
   "execution_count": null
  },
  {
   "cell_type": "markdown",
   "metadata": {},
   "source": [
    "Remove Operation by index"
   ]
  },
  {
   "cell_type": "code",
   "metadata": {},
   "source": [
    "# Your code here"
   ],
   "outputs": [],
   "execution_count": null
  },
  {
   "cell_type": "markdown",
   "metadata": {},
   "source": [
    "Size of list"
   ]
  },
  {
   "cell_type": "code",
   "metadata": {},
   "source": [
    "# Your code here"
   ],
   "outputs": [],
   "execution_count": null
  },
  {
   "cell_type": "markdown",
   "metadata": {},
   "source": [
    "Acessing list elements"
   ]
  },
  {
   "cell_type": "code",
   "metadata": {},
   "source": [
    "# Your code here"
   ],
   "outputs": [],
   "execution_count": null
  },
  {
   "cell_type": "code",
   "metadata": {},
   "source": [
    "# Your code here"
   ],
   "outputs": [],
   "execution_count": null
  },
  {
   "cell_type": "markdown",
   "metadata": {},
   "source": [
    "Indexing or **Slicing** List"
   ]
  },
  {
   "cell_type": "markdown",
   "metadata": {},
   "source": [
    "```python\n",
    "start:end(exclusive):step\n",
    "```"
   ]
  },
  {
   "cell_type": "markdown",
   "metadata": {},
   "source": "From first to last, all values"
  },
  {
   "cell_type": "code",
   "metadata": {},
   "source": [
    "# Your code here"
   ],
   "outputs": [],
   "execution_count": null
  },
  {
   "cell_type": "markdown",
   "metadata": {},
   "source": [
    "From first to last, every two values"
   ]
  },
  {
   "cell_type": "code",
   "metadata": {},
   "source": [
    "# Your code here"
   ],
   "outputs": [],
   "execution_count": null
  },
  {
   "cell_type": "markdown",
   "metadata": {},
   "source": [
    "---"
   ]
  },
  {
   "cell_type": "markdown",
   "metadata": {},
   "source": [
    "#### Range"
   ]
  },
  {
   "cell_type": "code",
   "metadata": {},
   "source": [
    "# Your code here"
   ],
   "outputs": [],
   "execution_count": null
  },
  {
   "cell_type": "markdown",
   "metadata": {},
   "source": [
    "---"
   ]
  },
  {
   "cell_type": "markdown",
   "metadata": {},
   "source": [
    "#### Tuples"
   ]
  },
  {
   "cell_type": "code",
   "metadata": {},
   "source": [
    "# Your code here"
   ],
   "outputs": [],
   "execution_count": null
  },
  {
   "cell_type": "markdown",
   "metadata": {},
   "source": [
    "Tuples are immutable! For example, if you try to update or delete one value it will return an error"
   ]
  },
  {
   "cell_type": "code",
   "metadata": {},
   "source": [
    "# Your code here"
   ],
   "outputs": [],
   "execution_count": null
  },
  {
   "cell_type": "markdown",
   "metadata": {},
   "source": [
    "Adding elements to a tuple creates a new one"
   ]
  },
  {
   "cell_type": "code",
   "metadata": {},
   "source": [
    "# Your code here"
   ],
   "outputs": [],
   "execution_count": null
  },
  {
   "cell_type": "markdown",
   "metadata": {},
   "source": [
    "Memory address of each variable"
   ]
  },
  {
   "cell_type": "code",
   "metadata": {},
   "source": "# Your code here",
   "outputs": [],
   "execution_count": null
  },
  {
   "cell_type": "markdown",
   "metadata": {},
   "source": [
    "---"
   ]
  },
  {
   "cell_type": "markdown",
   "metadata": {},
   "source": [
    "### Mapping Types"
   ]
  },
  {
   "cell_type": "markdown",
   "metadata": {},
   "source": [
    "#### Dictionary"
   ]
  },
  {
   "cell_type": "markdown",
   "metadata": {},
   "source": [
    "A dictionary is a mapping object composed of *keys* and *values* and *keys* need to hashable (lists and dictionaries are not)\n",
    "\n",
    "For example `{'data': 0, 'science': 0}`\n"
   ]
  },
  {
   "cell_type": "code",
   "metadata": {},
   "source": [
    "# Your code here"
   ],
   "outputs": [],
   "execution_count": null
  },
  {
   "cell_type": "markdown",
   "metadata": {},
   "source": [
    "Access the value of a key"
   ]
  },
  {
   "cell_type": "code",
   "metadata": {},
   "source": [
    "# Your code here"
   ],
   "outputs": [],
   "execution_count": null
  },
  {
   "cell_type": "markdown",
   "metadata": {},
   "source": [
    "Delete entry with the key ```data```"
   ]
  },
  {
   "cell_type": "code",
   "metadata": {},
   "source": [
    "# Your code here"
   ],
   "outputs": [],
   "execution_count": null
  },
  {
   "cell_type": "markdown",
   "metadata": {},
   "source": [
    "---"
   ]
  },
  {
   "cell_type": "markdown",
   "metadata": {},
   "source": [
    "## Membership Operators"
   ]
  },
  {
   "cell_type": "code",
   "metadata": {
    "scrolled": true
   },
   "source": [
    "# Your code here"
   ],
   "outputs": [],
   "execution_count": null
  },
  {
   "cell_type": "markdown",
   "metadata": {},
   "source": [
    "---"
   ]
  },
  {
   "cell_type": "markdown",
   "metadata": {},
   "source": [
    "## Control Flow Tools"
   ]
  },
  {
   "cell_type": "markdown",
   "metadata": {},
   "source": [
    "### For Statements"
   ]
  },
  {
   "cell_type": "markdown",
   "metadata": {},
   "source": [
    "```python\n",
    "for <var> in <iterable>:\n",
    "    <statement(s)>\n",
    "```"
   ]
  },
  {
   "cell_type": "code",
   "metadata": {},
   "source": [
    "# Your code here"
   ],
   "outputs": [],
   "execution_count": null
  },
  {
   "cell_type": "markdown",
   "metadata": {},
   "source": [
    "#### range is often used as the iterable\n",
    "\n",
    "```python\n",
    "    for <var> in range(limit):\n",
    "        <statement(s)>\n",
    "```"
   ]
  },
  {
   "cell_type": "code",
   "metadata": {},
   "source": [
    "# Your code here"
   ],
   "outputs": [],
   "execution_count": null
  },
  {
   "cell_type": "markdown",
   "metadata": {},
   "source": [
    "### If Statements"
   ]
  },
  {
   "cell_type": "markdown",
   "metadata": {},
   "source": [
    "```python\n",
    "    if <expr>:\n",
    "        <statement>\n",
    "    elif <expr>:\n",
    "        <statement>\n",
    "    else:\n",
    "        <statement>\n",
    "```"
   ]
  },
  {
   "cell_type": "markdown",
   "metadata": {},
   "source": [
    "`expr` is an expression evaluated in a Boolean context\n",
    "    \n",
    "`statement` is a valid Python statement, which must be indented"
   ]
  },
  {
   "cell_type": "code",
   "metadata": {},
   "source": [
    "# Your code here"
   ],
   "outputs": [],
   "execution_count": null
  },
  {
   "cell_type": "markdown",
   "metadata": {},
   "source": [
    "### List Comprehensions"
   ]
  },
  {
   "cell_type": "markdown",
   "metadata": {},
   "source": [
    "Create lists with elements with a single statement\n",
    "\n",
    "```python\n",
    "[ expression for a_value in a_collection ]\n",
    "\n",
    "```"
   ]
  },
  {
   "cell_type": "code",
   "metadata": {},
   "source": [
    "# Your code here"
   ],
   "outputs": [],
   "execution_count": null
  },
  {
   "cell_type": "markdown",
   "metadata": {},
   "source": [
    "List comprehension with conditions\n",
    "\n",
    "```python\n",
    "[ expression for a_value in a_collection if condition ]\n",
    "\n",
    "```"
   ]
  },
  {
   "cell_type": "code",
   "metadata": {},
   "source": [
    "# Your code here"
   ],
   "outputs": [],
   "execution_count": null
  },
  {
   "cell_type": "markdown",
   "metadata": {},
   "source": [
    "---"
   ]
  },
  {
   "cell_type": "markdown",
   "metadata": {},
   "source": [
    "## Functions"
   ]
  },
  {
   "cell_type": "code",
   "metadata": {},
   "source": [
    "def functionName(argument_one, argument_two):\n",
    "    \"\"\"\n",
    "    Comment what it does\n",
    "    \"\"\"\n",
    "    \n",
    "    \n",
    "    do_stuff\n",
    "    \n",
    "    return value\n"
   ],
   "outputs": [],
   "execution_count": null
  },
  {
   "cell_type": "code",
   "metadata": {},
   "source": [
    "functionName?"
   ],
   "outputs": [],
   "execution_count": null
  },
  {
   "cell_type": "markdown",
   "metadata": {},
   "source": [
    "### Call a function"
   ]
  },
  {
   "cell_type": "markdown",
   "metadata": {},
   "source": [
    "```python\n",
    "functionName(argument_one, argument_two)\n",
    "```"
   ]
  },
  {
   "cell_type": "code",
   "metadata": {},
   "source": [
    "# Your code here"
   ],
   "outputs": [],
   "execution_count": null
  },
  {
   "cell_type": "markdown",
   "metadata": {},
   "source": [
    "### Built-in Functions\n",
    "\n",
    "We have already used some. But there are more:\n",
    "\n",
    "https://docs.python.org/3/library/functions.html"
   ]
  },
  {
   "cell_type": "markdown",
   "metadata": {},
   "source": [
    "## Code Standards"
   ]
  },
  {
   "cell_type": "markdown",
   "metadata": {},
   "source": [
    "[PEP 8: Function and Variable Names](https://www.python.org/dev/peps/pep-0008/#function-and-variable-names)  \n",
    "\n",
    "**Summary**\n",
    " - Use Snake case in functions and variables, lowercase with words separated by underscores as necessary to improve readability\n",
    "     - data_science  \n",
    "\n",
    "\n",
    " - For constants use all capital letters with underscores separating words\n",
    "     - DATA_SCIENCE  \n",
    "\n",
    "\n",
    " - Use CapWords convention for classes\n",
    "     - DataScience"
   ]
  },
  {
   "cell_type": "markdown",
   "metadata": {
    "id": "rC-2j2O6w8o8"
   },
   "source": [
    "# Challenges - Part I\n",
    "\n",
    "**Cosine similarity from scratch**\n",
    "\n",
    "\n",
    "## Question 1/6\n",
    "\n",
    "The dot product between two vectors $v1$ e $v2$ of size $n$ is defined as:\n",
    "\n",
    "$$\\sum_{i=1}^n v1_i . v2_i $$\n",
    "\n",
    "Create a `for` loop necessary to compute the dot product between any two vectors of the same size.\n",
    "\n"
   ]
  },
  {
   "cell_type": "code",
   "metadata": {},
   "source": [
    "# Your code here"
   ],
   "outputs": [],
   "execution_count": null
  },
  {
   "cell_type": "markdown",
   "metadata": {
    "id": "l40MIkKu0N2v"
   },
   "source": [
    "## Question 2/6\n",
    "\n",
    "Try using the built-in function `zip`. Pass vectors `v1` and `v2` as parameters.\n",
    "\n",
    "**Note.** `zip` produces an object of class `zip`, but we can cast it as a `list` using the built-in function `list()` on that object"
   ]
  },
  {
   "cell_type": "code",
   "metadata": {
    "id": "pSufwTO8ygIJ"
   },
   "source": [
    "# Your code here"
   ],
   "outputs": [],
   "execution_count": null
  },
  {
   "cell_type": "markdown",
   "metadata": {
    "id": "vlwN-22X1NHq"
   },
   "source": [
    "Based on the result obtained explain what the `zip`function does."
   ]
  },
  {
   "cell_type": "code",
   "metadata": {},
   "source": [
    "# Your answer here"
   ],
   "outputs": [],
   "execution_count": null
  },
  {
   "cell_type": "markdown",
   "metadata": {
    "id": "vlwN-22X1NHq"
   },
   "source": [
    "---\n",
    "## Question 3/6\n",
    "\n",
    "Try using the built-in funcion `zip()` to compute the dot product in single line of code.\n",
    "\n",
    "- **Hint 1:** use a list comprehension\n",
    "- **Hint 2:** use the built-in function `sum()` to obtain the sum of all values of a list"
   ]
  },
  {
   "cell_type": "code",
   "metadata": {
    "colab": {
     "base_uri": "https://localhost:8080/"
    },
    "id": "kouVzfwHz2GQ",
    "outputId": "ba0d220a-6d4a-4d89-a704-5067904e6a2a"
   },
   "source": [
    "# Your code here"
   ],
   "outputs": [],
   "execution_count": null
  },
  {
   "cell_type": "markdown",
   "metadata": {
    "id": "8N7Gzg2R3T7_"
   },
   "source": [
    "---\n",
    "## Question 4/6\n",
    "\n",
    "The norm of a vector (its magnitude) is defined as:\n",
    "\n",
    "$$ \\lVert x \\rVert = \\sqrt{\\sum_{i=1}^n x_i^2}$$\n",
    "\n",
    "Write a for loop that computes a norm of a given vector $v$."
   ]
  },
  {
   "cell_type": "code",
   "metadata": {},
   "source": [
    "# Your code here"
   ],
   "outputs": [],
   "execution_count": null
  },
  {
   "cell_type": "markdown",
   "metadata": {
    "id": "Vb12GvWP-g-A"
   },
   "source": [
    "## Question 5/6\n",
    "\n",
    "Recall how to create a funcion:\n",
    "\n",
    "```python\n",
    "def name_of_the_function(list of arguments):\n",
    "    do something\n",
    "    ...\n",
    "    return the_result\n",
    "```\n",
    "\n",
    "1. Define a function that computes the dot product of two vectors $v1$ e $v2$\n",
    "\n",
    "2. Define a function that computes the norm of a vector $v$\n",
    "\n",
    "3. Call both function"
   ]
  },
  {
   "cell_type": "code",
   "metadata": {
    "id": "tHIzPKN14uU9"
   },
   "source": [
    "# Your code here"
   ],
   "outputs": [],
   "execution_count": null
  },
  {
   "cell_type": "markdown",
   "metadata": {
    "id": "B5ZKUFsG_kzI"
   },
   "source": [
    "## Question 6/6\n",
    "\n",
    "In Data Science there is this famous measure of similarity called cosine similarity. \n",
    "\n",
    "Given two vectors $v1$ e $v2$, it is defined as:\n",
    "\n",
    "$$\n",
    "  cos(v1, v2) = \\frac{v1 . v2}{\\lVert v1 \\rVert \\times \\lVert v2 \\rVert}\n",
    "$$  \n",
    "\n",
    "Using the above functions, define a new one that computes this similarity.\n"
   ]
  },
  {
   "cell_type": "code",
   "metadata": {
    "colab": {
     "base_uri": "https://localhost:8080/"
    },
    "id": "iJmEsbJ5AeyG",
    "outputId": "2414c36f-8a45-4137-a195-26d35cf6a4a7"
   },
   "source": [
    "# Your code here"
   ],
   "outputs": [],
   "execution_count": null
  },
  {
   "cell_type": "markdown",
   "metadata": {},
   "source": [
    "# Calculator Challenge\n",
    "Write a Python function that accepts three parameters.  \n",
    "- The first parameter is a numeric value.\n",
    "- The second is one of the following mathematical operators: +, -, /, or .\n",
    "- The third parameter will also be a numeric value\n",
    "\n",
    "The function should perform a calculation and return the results.\n",
    "\n",
    "For example, parameters `(2.5, '.', 3)` should return `7.5`."
   ]
  },
  {
   "cell_type": "code",
   "metadata": {},
   "source": [
    "# Your code here"
   ],
   "outputs": [],
   "execution_count": null
  },
  {
   "cell_type": "markdown",
   "metadata": {
    "id": "qPbU_zKjGZOH"
   },
   "source": [
    "# Extra Challenges\n",
    "\n",
    "Write a list comprehension that filters an existing list of strings:\n",
    "\n",
    "1. firstly, the ones with more than four letters\n",
    "2. secondly, the ones with at least two different vowels\n",
    "3. all the above\n"
   ]
  },
  {
   "cell_type": "code",
   "metadata": {},
   "source": [
    "my_list = ['pyramid', 'car', 'quiet', 'data', 'read']"
   ],
   "outputs": [],
   "execution_count": null
  },
  {
   "cell_type": "code",
   "metadata": {},
   "source": [
    "# 1\n",
    "\n",
    "# Your code here"
   ],
   "outputs": [],
   "execution_count": null
  },
  {
   "cell_type": "code",
   "metadata": {
    "id": "dMMOlETnEHuj"
   },
   "source": [
    "# 2\n",
    "\n",
    "# Your code here"
   ],
   "outputs": [],
   "execution_count": null
  },
  {
   "cell_type": "code",
   "metadata": {
    "id": "xjRZiL04Lkt5"
   },
   "source": [
    "# 3\n",
    "\n",
    "# Your code here"
   ],
   "outputs": [],
   "execution_count": null
  }
 ],
 "metadata": {
  "colab": {
   "collapsed_sections": [],
   "name": "Python_Tutorial-1-final.ipynb",
   "provenance": [],
   "toc_visible": true
  },
  "kernelspec": {
   "display_name": "Python 3 (ipykernel)",
   "language": "python",
   "name": "python3"
  },
  "language_info": {
   "codemirror_mode": {
    "name": "ipython",
    "version": 3
   },
   "file_extension": ".py",
   "mimetype": "text/x-python",
   "name": "python",
   "nbconvert_exporter": "python",
   "pygments_lexer": "ipython3",
   "version": "3.9.7"
  }
 },
 "nbformat": 4,
 "nbformat_minor": 4
}
